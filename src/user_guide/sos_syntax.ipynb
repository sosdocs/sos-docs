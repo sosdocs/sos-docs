{
 "cells": [
  {
   "cell_type": "markdown",
   "metadata": {
    "kernel": "SoS",
    "tags": []
   },
   "source": [
    "# Syntax and file formats"
   ]
  },
  {
   "cell_type": "markdown",
   "metadata": {
    "kernel": "SoS",
    "tags": []
   },
   "source": [
    "* **Difficulty level**: easy\n",
    "* **Time need to lean**: 10 minutes or less\n",
    "* **Key points**:\n",
    "  * SoS is extended from Python 3.6+ and accept any Python statements\n",
    "  * SoS uses section headers to define workflow steps\n",
    "  * SoS uses `parameter`, `input`, `output`, `depends`, and `task` statements to construct workflows"
   ]
  },
  {
   "cell_type": "markdown",
   "metadata": {
    "kernel": "SoS",
    "tags": []
   },
   "source": [
    "## Terminology"
   ]
  },
  {
   "cell_type": "markdown",
   "metadata": {
    "kernel": "SoS",
    "tags": []
   },
   "source": [
    "A SoS **script** defines one or more **workflows**, and each workflow consists of one or more **steps**. \n",
    "\n",
    "SoS steps are defined by SoS **sections**. A SoS **section** consists of a **header** with one or more step names and optional options. The body of a SoS section consists of optional **comments**, **statements**, **input**, **output**, **depends** statements, **parameter** definitions, and external **task** definition. \n"
   ]
  },
  {
   "cell_type": "markdown",
   "metadata": {
    "kernel": "SoS",
    "tags": [],
    "workflow_cell": true
   },
   "source": [
    "The following terms will be used throughout this documentation:\n",
    "\n",
    "* **Script**: A SoS script that defines one or more workflows.\n",
    "* **Section**: A group of statements with a header that defines one or more SoS steps. A header can be ignored if it is the first or only section in a script.\n",
    "* **Workflow**: A collection of steps that can be executed to complete certain task.\n",
    "* **Step**: A step of a workflow that performs one piece of the workflow.\n",
    "* **Target**: Objects that are input or result of a SoS step, which are usually files, but can also be objects such as other SoS steps and SoS variables.\n",
    "* **Step options**: Options specified in section header to assist the definition of the workflow.\n",
    "* **Step input**: Specifies the input targets of the step.\n",
    "* **Step output**: Specifies the output targets of the step.\n",
    "* **Step dependencies**: Specifies the targets that are required by the step.\n",
    "* **Substep**: A substep consists of all statements after the `input` specification. It can be executed multiple times each with a subset of input files and/or different parameters.\n",
    "* **Task**: Part or all substep that will be executed outside of SoS, and potentially on a different server. These are usually resource intensive jobs that will take a long time to complete.\n",
    "* **Action**: SoS or user-defined Python functions. They differ from regular Python functions in that they may behave differently in different running mode of SoS (e.g. ignore when executed in dryrun mode)."
   ]
  },
  {
   "cell_type": "markdown",
   "metadata": {
    "kernel": "SoS",
    "tags": []
   },
   "source": [
    "## SoS Syntax"
   ]
  },
  {
   "cell_type": "markdown",
   "metadata": {
    "kernel": "SoS",
    "tags": []
   },
   "source": [
    "**SoS is based on the Python 3 (3.6 and above) programming language**. If you are unfamiliar with Python, you can learn some basics of Python, usually in less than half a day, by reading some Python tutorials (e.g. [the official python tutorial](https://docs.python.org/3/tutorial/)). This [short introduction](https://docs.python.org/3/tutorial/introduction.html) is good enough for you to get started with SoS.\n",
    "\n",
    "SoS adds the following syntax to standard Python syntax: \n",
    "\n",
    "| syntax | Example | Main Usage |\n",
    "|--------|---------|-------|\n",
    "|**Script format of function call**| `R: expand=True`<br>`  data <- read.csv(\"{_input}\")`| Verbatim inclusion of scripts with optional indentation and string interpolation |\n",
    "|**Section specification**| `[align_20]` | Define steps of workflows |\n",
    "|**SoS statements**||Direct execution of steps|\n",
    "|| **`parameter`**`: cutoff=10` | Obtain option from command line or workflow caller |\n",
    "|| **`input`**`: fastq_files` | Specify input files of a step |\n",
    "|| **`output`**`: f\"{_input}.idx\"` | Specify output files of a step |\n",
    "|| **`depends`**`: hg19_fa` | Specify step dependencies |\n",
    "|| **`task`**`: queue='cluster'` | Specify external tasks |\n",
    "\n",
    "These syntaxes are described in details in the following sections\n",
    "\n",
    "* [Script format of function calls](script_format.html)\n",
    "* [Section headers](sos_syntax.html)\n",
    "* [The `parameter` statement](parameter_statement.html)\n",
    "* [The `input` statement](input_statement.html)\n",
    "* [The `output` statement](output_statement.html)\n",
    "* [The `depends` statement](depends_statement.html)\n",
    "* [The `task` statement](task_statement.html)"
   ]
  },
  {
   "cell_type": "markdown",
   "metadata": {
    "kernel": "SoS",
    "tags": []
   },
   "source": [
    "## File formats\n",
    "\n",
    "### Native SoS file format"
   ]
  },
  {
   "cell_type": "markdown",
   "metadata": {
    "kernel": "SoS",
    "tags": []
   },
   "source": [
    "A sos script can be defined in a plain text file. A `.sos` suffix is recommended but not required. A SoS script consists of **sections** that define **steps** of one or more **workflows**."
   ]
  },
  {
   "cell_type": "markdown",
   "metadata": {
    "kernel": "SoS",
    "tags": []
   },
   "source": [
    "A SoS script usually starts with lines\n",
    "\n",
    "```python\n",
    "#!/usr/bin/env sos-runner\n",
    "#fileformat=SOS1.0\n",
    "```\n",
    "\n",
    "The first line allows the script to be executed by command `sos-runner` if it is executed as an executable script. The second line tells SoS the format of the script. The `#fileformat` line does not have to be the first or second line but should be in the first comment block. The latest version of SOS format is assumed if no format line is present so it is a good practice to specify version of file format to make sure the script is interpreted correctly."
   ]
  },
  {
   "cell_type": "markdown",
   "metadata": {
    "kernel": "SoS",
    "tags": []
   },
   "source": [
    "### Notebook format"
   ]
  },
  {
   "cell_type": "markdown",
   "metadata": {
    "kernel": "SoS",
    "tags": []
   },
   "source": [
    "A SoS workflow can be embedded in a SoS Notebook, and consists of **all SoS sections in SoS cells**.\n",
    "\n",
    "You can preview the embedded workflow with magic `%preview --workflow` in a SoS notebook, or convert a SoS Notebook to `.sos` format using command\n",
    "\n",
    "```bash\n",
    "sos convert filename.ipynb filename.sos\n",
    "```"
   ]
  },
  {
   "cell_type": "markdown",
   "metadata": {
    "kernel": "SoS",
    "tags": []
   },
   "source": [
    "Note that although the workflow defined in a previous section contains a default global section without header, the global section is not considered part of the embedded workflow. "
   ]
  },
  {
   "cell_type": "markdown",
   "metadata": {
    "kernel": "SoS",
    "tags": []
   },
   "source": [
    "## Sections"
   ]
  },
  {
   "cell_type": "markdown",
   "metadata": {
    "kernel": "SoS",
    "tags": []
   },
   "source": [
    "### Global sections and default variables"
   ]
  },
  {
   "cell_type": "markdown",
   "metadata": {
    "kernel": "SoS",
    "tags": []
   },
   "source": [
    "Global sections can be defined without section header in a `.sos` file as statements before any other section, and as a regular section with header `[global]`. The global sections are the only section that can appear multiple times in a SoS script."
   ]
  },
  {
   "cell_type": "markdown",
   "metadata": {
    "kernel": "SoS",
    "tags": []
   },
   "source": [
    "Definitions in the global section are shared by all sections so it is usually used to define global variables and parameters. SoS implicitly defines the following variables in the global section:\n",
    "\n",
    "* **`SOS_VERSION`**: version of SoS interpreter.\n",
    "* **`CONFIG`**: configurations read from site, hosts, global, local and user specific configuration files. See [configuration files](config_files.html) for details."
   ]
  },
  {
   "cell_type": "markdown",
   "metadata": {
    "kernel": "SoS",
    "tags": []
   },
   "source": [
    "### SoS Sections"
   ]
  },
  {
   "cell_type": "markdown",
   "metadata": {
    "kernel": "SoS",
    "tags": []
   },
   "source": [
    "A SoS section is marked by a section header in the format of\n",
    "\n",
    "```\n",
    "[names: options]\n",
    "```\n",
    "\n",
    "The header should start with a `[` from the beginning of a line and end with a `]`. It can contain one or more names with optional description (for each step) and section options (for all steps defined in the section)."
   ]
  },
  {
   "cell_type": "markdown",
   "metadata": {
    "kernel": "SoS",
    "tags": []
   },
   "source": [
    "Section names of a section follow the following rules:\n",
    "\n",
    "| Format | Example | Usage |\n",
    "|--------|---| -------|\n",
    "| **`name_index`** |`human_10`|Defines step `index` of workflow `name`. Here `name` can be any name with alpha-numeric characters and `-` and `_`. `index` should be a non-negative number.|\n",
    "| **`name`** |`update-website`| Section name without index is equivalent to `name_0` |\n",
    "| **`index`** |`10`| Section name without workflow name is equivalent to `default_index`|\n",
    "| **`pattern_index`** |`*_0`, `human*_10`| Equivalent to step `index` of all matching workflows defined in the script. The `pattern` should follow [Unix filename matching](https://docs.python.org/2/library/fnmatch.html)|\n",
    "| **`stepname (desc)`**| `10 (align)`| Optional short description can be used to describe the goal of the step|\n",
    "| **`name1,name2,...`** |`human_10,mouse_10`| Comma separated names define multiple steps for one or more workflows|"
   ]
  },
  {
   "cell_type": "markdown",
   "metadata": {
    "kernel": "SoS",
    "tags": []
   },
   "source": [
    "A SoS step accepts the following options:\n",
    "\n",
    "| Name | Example | Usage |\n",
    "|------|--------|---------|\n",
    "|**`skip`** | `skip`<br>`skip=False` | Always or conditionally skip a step, `expr` should be evaluated as `True` or `False`|\n",
    "|**`shared`**|`shared='K'`<br>`shared={'K': 'output[0]'}`  | Variable that will be made available to the workflow after completion of the step |\n",
    "|**`provides`**|`provides='filename'`<br>`provides=executable('fastqc')`<br>`provides='{filename}.bam.gz'`<br>`provides=['A1.txt', 'A2.txt']`| Targets that will be generated after the completion of the step. This option turns the step to an auxiliary step that will be executed when the provided target is needed. |\n",
    "\n",
    "Please refer to section [SoS Step](sos_syntax.html) for more details on these options. \n",
    "\n",
    "SoS workflows consist of SoS steps. Please refer to section [SoS Workflows](sos_workflows.html) for the definition of process- and outcome-oriented workflows in SoS."
   ]
  },
  {
   "cell_type": "markdown",
   "metadata": {
    "kernel": "SoS",
    "tags": []
   },
   "source": [
    "## Comments and help messages "
   ]
  },
  {
   "cell_type": "markdown",
   "metadata": {
    "kernel": "SoS",
    "tags": []
   },
   "source": [
    "Most comments in SoS scripts are significant in that they will be displayed as help messages of the script. In particular,\n",
    "\n",
    "* The first comment block is the description of the script. This is where you introduce the purpose of the workflows.\n",
    "* Comments immediately before section header and parameter: definitions become the descriptions of the sections and parameters.\n",
    "* Workflow, step, and parameter descriptions are displayed in the output of `-h` of the script.\n",
    "\n",
    "For example, option `-h` of the `%run` magic displays the help message of the script. The same could be achived on command line with\n",
    "\n",
    "```\n",
    "sos run script.sos -h\n",
    "sos run script.ipynb -h\n",
    "sos-runner script.sos -h\n",
    "```\n",
    "or\n",
    "```\n",
    "script.sos -h\n",
    "```\n",
    "if you have\n",
    "```\n",
    "#!/usr/bin/env sos-runner\n",
    "```\n",
    "as the first line of the script and give `script.sos` executable permission."
   ]
  },
  {
   "cell_type": "code",
   "execution_count": 1,
   "metadata": {
    "kernel": "SoS",
    "tags": []
   },
   "outputs": [
    {
     "name": "stdout",
     "output_type": "stream",
     "text": [
      "usage: sos run /Users/bpeng1/sos/sos-docs/src/user_guide/.tmp_script_cfe4atzs.sos\n",
      "               [workflow_name | -t targets] [options] [workflow_options]\n",
      "  workflow_name:        Single or combined workflows defined in this script\n",
      "  targets:              One or more targets to generate\n",
      "  options:              Single-hyphen sos parameters (see \"sos run -h\" for details)\n",
      "  workflow_options:     Double-hyphen workflow-specific parameters\n",
      "\n",
      "This workflow converts input excel file\n",
      "into a .csv file and plot fields log2FoldChange\n",
      "again stat\n",
      "\n",
      "Workflows:\n",
      "  plot\n",
      "\n",
      "Global Workflow Options:\n",
      "  --excel-file VAL (as str, required)\n",
      "                        input excel file\n",
      "  --csv-file 'DEG.csv'\n",
      "                        intermediate csv file\n",
      "  --figure-file 'output.pdf'\n",
      "                        output figure file\n",
      "\n",
      "Sections\n",
      "  plot_10:              Uses command xlsx2csv to convert excel file to csv\n",
      "                        format\n",
      "  plot_20:              Load data in csv format and plot log2FoldChange again\n",
      "                        stat\n"
     ]
    }
   ],
   "source": [
    "%run -h\n",
    "\n",
    "# This workflow converts input excel file\n",
    "# into a .csv file and plot fields log2FoldChange\n",
    "# again stat\n",
    "\n",
    "[global]\n",
    "# input excel file\n",
    "parameter: excel_file = str\n",
    "\n",
    "# intermediate csv file\n",
    "parameter: csv_file = 'DEG.csv'\n",
    "\n",
    "# output figure file\n",
    "parameter: figure_file = 'output.pdf'\n",
    "\n",
    "# Uses command xlsx2csv to convert\n",
    "# excel file to csv format\n",
    "[plot_10]\n",
    "run: expand=True\n",
    "    xlsx2csv {excel_file} > {csv_file}\n",
    "\n",
    "# Load data in csv format and plot log2FoldChange\n",
    "# again stat\n",
    "[plot_20]\n",
    "R: expand=True\n",
    "    data <- read.csv('{csv_file}')\n",
    "    pdf('{figure_file}')\n",
    "    plot(data$log2FoldChange, data$stat)\n",
    "    dev.off()"
   ]
  },
  {
   "cell_type": "markdown",
   "metadata": {
    "kernel": "SoS",
    "tags": []
   },
   "source": [
    "## Further reading\n",
    "\n",
    "* [SoS Workflows](sos_workflows.html)"
   ]
  }
 ],
 "metadata": {
  "anaconda-cloud": {},
  "kernelspec": {
   "display_name": "SoS",
   "language": "sos",
   "name": "sos"
  },
  "language_info": {
   "codemirror_mode": "sos",
   "file_extension": ".sos",
   "mimetype": "text/x-sos",
   "name": "sos",
   "nbconvert_exporter": "sos_notebook.converter.SoS_Exporter",
   "pygments_lexer": "sos"
  },
  "sos": {
   "celltoolbar": true,
   "default_kernel": "SoS",
   "kernels": [
    [
     "SoS",
     "sos",
     "",
     ""
    ]
   ],
   "panel": {
    "displayed": true,
    "height": 0,
    "style": "side"
   },
   "version": "0.21.6"
  },
  "toc": {
   "nav_menu": {
    "height": "386px",
    "width": "254px"
   },
   "navigate_menu": true,
   "number_sections": true,
   "sideBar": true,
   "threshold": 4,
   "toc_cell": false,
   "toc_section_display": "block",
   "toc_window_display": true
  }
 },
 "nbformat": 4,
 "nbformat_minor": 4
}
