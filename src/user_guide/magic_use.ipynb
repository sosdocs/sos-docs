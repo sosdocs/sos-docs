{
 "cells": [
  {
   "cell_type": "markdown",
   "metadata": {
    "kernel": "SoS",
    "papermill": {
     "duration": 0.011415,
     "end_time": "2019-12-23T17:02:57.810341",
     "exception": false,
     "start_time": "2019-12-23T17:02:57.798926",
     "status": "completed"
    },
    "tags": []
   },
   "source": [
    "# More on magic `%use`"
   ]
  },
  {
   "cell_type": "markdown",
   "metadata": {
    "kernel": "SoS",
    "papermill": {
     "duration": 0.00982,
     "end_time": "2019-12-23T17:02:57.831909",
     "exception": false,
     "start_time": "2019-12-23T17:02:57.822089",
     "status": "completed"
    },
    "tags": []
   },
   "source": [
    "* **Difficulty level**: easy\n",
    "* **Time need to lean**: 10 minutes or less\n",
    "* **Key points**:\n",
    "  * Magic `%use NAME --language` can start a separate kernel with `NAME`\n",
    "  * Magic `%use NAME --language LAN --kernel KER` can bind a language module to an unsupported kernel\n",
    "  * Option `--color` can be used to customize colored prompt of subkernels"
   ]
  },
  {
   "cell_type": "markdown",
   "metadata": {
    "kernel": "SoS",
    "papermill": {
     "duration": 0.008689,
     "end_time": "2019-12-23T17:02:57.849680",
     "exception": false,
     "start_time": "2019-12-23T17:02:57.840991",
     "status": "completed"
    },
    "tags": []
   },
   "source": [
    "## More on subkernels"
   ]
  },
  {
   "cell_type": "markdown",
   "metadata": {
    "kernel": "SoS",
    "papermill": {
     "duration": 0.008832,
     "end_time": "2019-12-23T17:02:57.868205",
     "exception": false,
     "start_time": "2019-12-23T17:02:57.859373",
     "status": "completed"
    },
    "tags": []
   },
   "source": [
    "<div class=\"bs-callout bs-callout-primary\" role=\"alert\">\n",
    "  <h4>Components of subkernel</h4>\n",
    "    <p>A subkernel consists of</p>\n",
    "    <ul>\n",
    "        <li>Name of subkernel, which is usually name of the language (e.g. <code>R</code>)\n",
    "        <li>A Jupyter kernel (e.g. <code>irkernel</code> for language R</li>\n",
    "        <li>A SoS language module (e.g. <code>sos-r</code> for R</li>\n",
    "        <li>A color used to color the input prompt</li>\n",
    "    </ul>\n",
    "</div>"
   ]
  },
  {
   "cell_type": "markdown",
   "metadata": {
    "kernel": "SoS",
    "papermill": {
     "duration": 0.008928,
     "end_time": "2019-12-23T17:02:57.886309",
     "exception": false,
     "start_time": "2019-12-23T17:02:57.877381",
     "status": "completed"
    },
    "tags": []
   },
   "source": [
    "A subkernel will be started with the execution of a cell with the selected language. By default\n",
    "* The name of the subkernel is the name of the language\n",
    "* The Jupyter kernel for the language. If multiple kernels that support the same language are available, preference will be given to a kernel determined by SoS.\n",
    "* The SoS language module for the selected language.\n",
    "* A default color determined by SoS.\n",
    "\n",
    "For example, the following cell starts subkernel `Python3`, with language `Python3`, kernel `ipython`, language module `sos-python`, and a default color determined by SoS."
   ]
  },
  {
   "cell_type": "code",
   "execution_count": 1,
   "metadata": {
    "kernel": "Python3",
    "papermill": {
     "duration": 1.460971,
     "end_time": "2019-12-23T17:02:59.356422",
     "exception": false,
     "start_time": "2019-12-23T17:02:57.895451",
     "status": "completed"
    },
    "tags": []
   },
   "outputs": [
    {
     "name": "stdout",
     "output_type": "stream",
     "text": [
      "This is a subkernel for Python 3\n"
     ]
    }
   ],
   "source": [
    "print('This is a subkernel for Python 3')\n",
    "var = 'hello, I am Python3'"
   ]
  },
  {
   "cell_type": "markdown",
   "metadata": {
    "kernel": "Python3",
    "papermill": {
     "duration": 0.013095,
     "end_time": "2019-12-23T17:02:59.384031",
     "exception": false,
     "start_time": "2019-12-23T17:02:59.370936",
     "status": "completed"
    },
    "tags": []
   },
   "source": [
    "## Start multiple sessions of the same kernel"
   ]
  },
  {
   "cell_type": "markdown",
   "metadata": {
    "kernel": "Python3",
    "papermill": {
     "duration": 0.00931,
     "end_time": "2019-12-23T17:02:59.404435",
     "exception": false,
     "start_time": "2019-12-23T17:02:59.395125",
     "status": "completed"
    },
    "tags": []
   },
   "source": [
    "Using the `%use` magic, you can start another session of the same language by specifying a separate subkernel with language name specified with option `--language`. A separate color is usually specified to differentiate two subkernels:"
   ]
  },
  {
   "cell_type": "code",
   "execution_count": 2,
   "metadata": {
    "kernel": "P3",
    "papermill": {
     "duration": 0.035048,
     "end_time": "2019-12-23T17:02:59.450214",
     "exception": true,
     "start_time": "2019-12-23T17:02:59.415166",
     "status": "failed"
    },
    "tags": []
   },
   "outputs": [],
   "source": [
    "%use P3 --language Python3 --color green\n",
    "var = 'hello, I am P3'"
   ]
  },
  {
   "cell_type": "markdown",
   "metadata": {
    "kernel": "P3",
    "papermill": {
     "duration": null,
     "end_time": null,
     "exception": null,
     "start_time": null,
     "status": "pending"
    },
    "tags": []
   },
   "source": [
    "As you can see, the two Python3 kernels do not share variables:"
   ]
  },
  {
   "cell_type": "code",
   "execution_count": 3,
   "metadata": {
    "kernel": "P3",
    "papermill": {
     "duration": null,
     "end_time": null,
     "exception": null,
     "start_time": null,
     "status": "pending"
    },
    "tags": []
   },
   "outputs": [
    {
     "data": {
      "text/plain": [
       "'hello, I am P3'"
      ]
     },
     "execution_count": 3,
     "metadata": {},
     "output_type": "execute_result"
    }
   ],
   "source": [
    "var"
   ]
  },
  {
   "cell_type": "code",
   "execution_count": 4,
   "metadata": {
    "kernel": "Python3",
    "papermill": {
     "duration": null,
     "end_time": null,
     "exception": null,
     "start_time": null,
     "status": "pending"
    },
    "tags": []
   },
   "outputs": [
    {
     "data": {
      "text/plain": [
       "'hello, I am Python3'"
      ]
     },
     "execution_count": 4,
     "metadata": {},
     "output_type": "execute_result"
    }
   ],
   "source": [
    "var"
   ]
  },
  {
   "cell_type": "markdown",
   "metadata": {
    "kernel": "Python3",
    "papermill": {
     "duration": null,
     "end_time": null,
     "exception": null,
     "start_time": null,
     "status": "pending"
    },
    "tags": []
   },
   "source": [
    "And you can transfer variables from one kernel to another as usual:"
   ]
  },
  {
   "cell_type": "code",
   "execution_count": 5,
   "metadata": {
    "kernel": "P3",
    "papermill": {
     "duration": null,
     "end_time": null,
     "exception": null,
     "start_time": null,
     "status": "pending"
    },
    "tags": []
   },
   "outputs": [
    {
     "data": {
      "text/plain": [
       "'hello, I am Python3'"
      ]
     },
     "execution_count": 5,
     "metadata": {},
     "output_type": "execute_result"
    }
   ],
   "source": [
    "%get var --from Python3\n",
    "var"
   ]
  },
  {
   "cell_type": "markdown",
   "metadata": {
    "kernel": "P3",
    "papermill": {
     "duration": null,
     "end_time": null,
     "exception": null,
     "start_time": null,
     "status": "pending"
    },
    "tags": []
   },
   "source": [
    "## Binding a language module to an unsupported kernel"
   ]
  },
  {
   "cell_type": "markdown",
   "metadata": {
    "kernel": "P3",
    "papermill": {
     "duration": null,
     "end_time": null,
     "exception": null,
     "start_time": null,
     "status": "pending"
    },
    "tags": []
   },
   "source": [
    "Each language module supports one or more kerneles (e.g. kernel `javascript`, and `nodejs` for JavaScript) for one or more langauges (e.g. both `MATLAB` and `Octave` are supported by the `sos-matlab` langauge module). If there is a kernel that uses one of the supported languages but is not explicitly supported by SoS, you can use the `--kernel` option in combination with the `--language` option to link the kernel with the specific language module.\n",
    "\n",
    "For example, if you have developed yet another kernel for javascript, you can link it with the `sos-javascript` language module with command\n",
    "\n",
    "```\n",
    "%use myjs --kernel myjs --language JavaScript\n",
    "```"
   ]
  },
  {
   "cell_type": "markdown",
   "metadata": {
    "kernel": "SoS",
    "papermill": {
     "duration": null,
     "end_time": null,
     "exception": null,
     "start_time": null,
     "status": "pending"
    },
    "tags": []
   },
   "source": [
    "## Further reading\n",
    "\n",
    "* [How to use multiple kernels in one Jupyter notebook](multi_kernel_notebook.html)"
   ]
  }
 ],
 "metadata": {
  "kernelspec": {
   "display_name": "SoS",
   "language": "sos",
   "name": "sos"
  },
  "language_info": {
   "codemirror_mode": "sos",
   "file_extension": ".sos",
   "mimetype": "text/x-sos",
   "name": "sos",
   "nbconvert_exporter": "sos_notebook.converter.SoS_Exporter",
   "pygments_lexer": "sos"
  },
  "papermill": {
   "duration": 9.759997,
   "end_time": "2019-12-23T17:03:04.662469",
   "environment_variables": {},
   "exception": true,
   "input_path": "/Users/bpeng1/sos/sos-docs/src/user_guide/magic_use.ipynb",
   "output_path": "magic_use.ipynb_rerun.ipynb",
   "parameters": {},
   "start_time": "2019-12-23T17:02:54.902472",
   "version": "1.1.0"
  },
  "sos": {
   "kernels": [
    [
     "P3",
     "python3",
     "Python3",
     "green"
    ],
    [
     "Python3",
     "python3",
     "Python3",
     "#FFD91A"
    ]
   ],
   "panel": {
    "displayed": true,
    "height": 0
   },
   "version": "0.21.6"
  }
 },
 "nbformat": 4,
 "nbformat_minor": 4
}
